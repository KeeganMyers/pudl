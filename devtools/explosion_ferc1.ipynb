{
 "cells": [
  {
   "cell_type": "markdown",
   "id": "4f3eeebb-999b-4c2f-948d-cc7e6b0c211d",
   "metadata": {},
   "source": [
    "# Income Statement Explosion"
   ]
  },
  {
   "cell_type": "code",
   "execution_count": null,
   "id": "c9e66073-8174-4bfc-9c60-55eeb8c06e19",
   "metadata": {
    "tags": []
   },
   "outputs": [],
   "source": [
    "import pandas as pd\n",
    "import numpy as np\n",
    "from dagster import AssetKey\n",
    "import sqlalchemy as sa\n",
    "\n",
    "import matplotlib.pyplot as plt\n",
    "import matplotlib as mpl\n",
    "%matplotlib inline\n",
    "mpl.style.use('dark_background')\n",
    "figsize=(12,5)\n",
    "\n",
    "import pudl\n",
    "from pudl.etl import defs, default_assets\n",
    "from pudl.helpers import get_asset_group_keys\n",
    "from pudl.transform.ferc1 import *"
   ]
  },
  {
   "cell_type": "code",
   "execution_count": null,
   "id": "ed0e1920-80e9-4c26-a891-7bed574add2e",
   "metadata": {},
   "outputs": [],
   "source": [
    "pudl_settings = pudl.workspace.setup.get_defaults()\n",
    "pudl_engine = sa.create_engine(pudl_settings['pudl_db'])\n",
    "ferc1_engine_xbrl = sa.create_engine(pudl_settings[\"ferc1_xbrl_db\"])\n",
    "ferc1_engine_dbf= sa.create_engine(pudl_settings[\"ferc1_db\"])"
   ]
  },
  {
   "cell_type": "code",
   "execution_count": null,
   "id": "c7eb637a-05c6-4eb6-9606-f5490dd24631",
   "metadata": {
    "tags": []
   },
   "outputs": [],
   "source": [
    "op_rev_other = pd.read_sql(\"electric_operating_revenues_other_300_duration\" ,ferc1_engine_xbrl)"
   ]
  },
  {
   "cell_type": "code",
   "execution_count": null,
   "id": "60ae259b-d7fc-47b8-915f-677f7c981234",
   "metadata": {
    "tags": []
   },
   "outputs": [],
   "source": [
    "xbrl_meta = defs.load_asset_value(AssetKey(\"xbrl_metadata_json\"))"
   ]
  },
  {
   "cell_type": "markdown",
   "id": "75bddbe0-38b2-4d10-89f1-f652a268c0f4",
   "metadata": {},
   "source": [
    "## Convert the metadata & Pull the tables"
   ]
  },
  {
   "cell_type": "code",
   "execution_count": null,
   "id": "39ded9f4-cd17-4082-8444-851b13a2e6b4",
   "metadata": {
    "tags": []
   },
   "outputs": [],
   "source": [
    "income_statement_tables = [\n",
    "    \"income_statement_ferc1\",\n",
    "    \"depreciation_amortization_summary_ferc1\",\n",
    "    \"electric_operating_expenses_ferc1\",\n",
    "    \"electric_operating_revenues_ferc1\",\n",
    "    # \"electricity_sales_by_rate_schedule_ferc1\"\n",
    "]\n",
    "income_table_dollar_cols = {\n",
    "    \"income_statement_ferc1\": \"income\",\n",
    "    \"depreciation_amortization_summary_ferc1\": \"depreciation_amortization_value\",\n",
    "    \"electric_operating_expenses_ferc1\": \"expense\",\n",
    "    \"electric_operating_revenues_ferc1\": \"revenue\",\n",
    "    \"electricity_sales_by_rate_schedule_ferc1\": \"sales_revenue\",\n",
    "}\n",
    "# get_asset_group_keys(\"norm_ferc1\", default_assets)\n",
    "# tables = {tbl: defs.load_asset_value(AssetKey(tbl)) for tbl in income_statement_tables}\n",
    "tables = {tbl: pd.read_sql(tbl, pudl_engine) for tbl in income_statement_tables}\n",
    "meta_converted = ExplodeMeta(xbrl_meta).convert_metadata(income_statement_tables)"
   ]
  },
  {
   "cell_type": "code",
   "execution_count": null,
   "id": "3147027b-d27b-4fbc-aad6-f3a566d3831c",
   "metadata": {
    "tags": []
   },
   "outputs": [],
   "source": [
    "# make all the calculated tables\n",
    "\n",
    "# note: there are more WARNING's about fields from the metadata not\n",
    "# showing up here bc I added all of the columns into meta_converted\n",
    "# even if they aren't calcucated values. this is bc in the next stage\n",
    "# we need to be able to find the factiods that are reported in two\n",
    "# tables\n",
    "calc_dfs = {}\n",
    "for table_name in income_statement_tables:\n",
    "    dollar_value_col = income_table_dollar_cols[table_name]\n",
    "    table_df = tables[table_name]\n",
    "    calc_dfs[table_name] = check_table_calcs(\n",
    "        table_name,\n",
    "        table_df,\n",
    "        dollar_value_col,\n",
    "        meta_converted=meta_converted\n",
    "    )"
   ]
  },
  {
   "cell_type": "markdown",
   "id": "f42eb69a-9655-49cd-95ad-b2eaceb3eb8a",
   "metadata": {},
   "source": [
    "## Explode the income statement table"
   ]
  },
  {
   "cell_type": "code",
   "execution_count": null,
   "id": "78bb815a-4476-47e4-9aaf-3dac0d88a413",
   "metadata": {
    "tags": []
   },
   "outputs": [],
   "source": [
    "tables_to_concat = []\n",
    "for table_name in income_statement_tables:\n",
    "    dollar_value_col = income_table_dollar_cols[table_name]\n",
    "    xbrl_factoid_name = FERC1_TFR_CLASSES[table_name]().params.merge_xbrl_metadata.on\n",
    "    table_df = tables[table_name]\n",
    "    tables_to_concat.append(table_df.rename(columns={dollar_value_col: \"dollar_amount\", xbrl_factoid_name: \"xbrl_factoid_name\"}))"
   ]
  },
  {
   "cell_type": "code",
   "execution_count": null,
   "id": "d081b2b2-2092-4c5f-b97b-0e89fd1d3279",
   "metadata": {
    "tags": []
   },
   "outputs": [],
   "source": [
    "explode_df = pd.concat(tables_to_concat)\n",
    "explode_meta = {tbl: meta for (tbl, meta) in meta_converted.items() if tbl in income_statement_tables}"
   ]
  },
  {
   "cell_type": "markdown",
   "id": "a736ee42-4a3d-42cb-962c-557e09b9b82c",
   "metadata": {},
   "source": [
    "### ID, Verify & Drop Duplicates\n",
    "- do the values of all of the columns that show up in two tables match?\n",
    "   - if so drop them\n",
    "- do all of the calculated values that have their sub-components in this table calculate?\n",
    "  - if so drop the calcuated values and keep the sub-components"
   ]
  },
  {
   "cell_type": "code",
   "execution_count": null,
   "id": "1f5f02d4-84f3-4ba1-ba1b-389cfab27cd0",
   "metadata": {
    "tags": []
   },
   "outputs": [],
   "source": [
    "# for each field, does the name_original show up in other multiple table's name_original?\n",
    "# we're using the name og bc each table has different transforms and therefor different\n",
    "# renames\n",
    "\n",
    "# compile all of the fields in this explosion\n",
    "all_fields = {\n",
    "    field \n",
    "    for tbl_fields in explode_meta.values()\n",
    "    for field in tbl_fields.keys()\n",
    "}"
   ]
  },
  {
   "cell_type": "code",
   "execution_count": null,
   "id": "abd73c91-41cd-43dd-b1c4-8d305351486d",
   "metadata": {
    "tags": []
   },
   "outputs": [],
   "source": [
    "# count the instances of the field's OG name\n",
    "for field in all_fields:\n",
    "    # explode_meta... something"
   ]
  },
  {
   "cell_type": "markdown",
   "id": "59fd865a-e47d-4956-abe9-edbe1a470afd",
   "metadata": {
    "jp-MarkdownHeadingCollapsed": true,
    "tags": []
   },
   "source": [
    "### Find/fix any missing columns"
   ]
  },
  {
   "cell_type": "code",
   "execution_count": null,
   "id": "50703cf3-985f-483c-ab29-0ee7101902ee",
   "metadata": {
    "tags": []
   },
   "outputs": [],
   "source": [
    "missing_cols = ['demand_charges_revenue_sales_for_resale', 'other_sales_to_public_authorities_billed', 'interdepartmental_sales_unbilled', 'other_charges_revenue_sales_for_resale', 'small_or_commercial_sales_electric_operating_revenue_unbilled', 'small_or_commercial_sales_electric_operating_revenue_billed', 'megawatt_hours_sold_large_or_industrial_unbilled', 'public_street_and_highway_lighting_unbilled', 'large_or_industrial_sales_electric_operating_revenue_billed', 'small_or_commercial_sales', 'public_street_and_highway_lighting_billed', 'large_or_industrial_sales', 'other_sales_to_public_authorities_unbilled', 'residential_sales_unbilled', 'interdepartmental_sales_billed', 'energy_charges_revenue_sales_for_resale', 'sales_to_railroads_and_railways_unbilled', 'sales_to_railroads_and_railways_billed', 'residential_sales_billed']\n",
    "# build a lil dictionary of missing col name to \n",
    "missing_col_to_table = {\n",
    "    col[\"name\"]: table_name \n",
    "    for (table_name, inst_dur_dict) in xbrl_meta.items()\n",
    "    for subtabl in inst_dur_dict.values()\n",
    "    for col in subtabl\n",
    "    if col[\"name\"] in missing_cols\n",
    "}\n",
    "\n",
    "# if a calcuated value contains elements from another table, add the table\n",
    "# name into the calc component."
   ]
  },
  {
   "cell_type": "code",
   "execution_count": null,
   "id": "8d68440c-3561-41fc-83c5-6d544a5a6322",
   "metadata": {
    "tags": []
   },
   "outputs": [],
   "source": [
    "[col for col in missing_cols if col not in missing_col_to_table.keys()]"
   ]
  },
  {
   "cell_type": "markdown",
   "id": "920a3492-5724-4082-9efd-65503f0200da",
   "metadata": {
    "jp-MarkdownHeadingCollapsed": true,
    "tags": []
   },
   "source": [
    "### Clean up helper bits for one table"
   ]
  },
  {
   "cell_type": "code",
   "execution_count": null,
   "id": "2bf2ef3f-940f-4e3a-ac86-8c8215705e6a",
   "metadata": {
    "tags": []
   },
   "outputs": [],
   "source": [
    "table_name = \"electric_operating_expenses_ferc1\"\n",
    "table_df = tables[table_name]\n",
    "calced_df = calc_dfs[table_name].drop(columns=[\"record_id\"])\n",
    "xbrl_factoid_name = FERC1_TFR_CLASSES[table_name]().params.merge_xbrl_metadata.on\n",
    "pks = (\n",
    "    pudl.metadata.classes.Package.from_resource_ids()\n",
    "    .get_resource(table_name)\n",
    "    .schema.primary_key\n",
    ")\n",
    "pks_wo_factoid = [col for col in pks if col != xbrl_factoid_name]"
   ]
  },
  {
   "cell_type": "code",
   "execution_count": null,
   "id": "ac410a89-963c-4706-9ebb-10a9455bbe57",
   "metadata": {
    "tags": []
   },
   "outputs": [],
   "source": [
    "off_df = calced_df[\n",
    "    ~np.isclose(\n",
    "        calced_df.calculated_dollar_amount,\n",
    "        calced_df[income_table_dollar_cols[table_name]]\n",
    "    )\n",
    "    &\n",
    "    (calced_df[\"abs_diff\"].notnull())\n",
    "]\n",
    "worst_calc_names = off_df[xbrl_factoid_name].value_counts().index[0:3]\n",
    "worst_calc_name = off_df[xbrl_factoid_name].value_counts().index[0]"
   ]
  },
  {
   "cell_type": "code",
   "execution_count": null,
   "id": "b68558e5-e57d-48f3-839d-cb26001a545d",
   "metadata": {
    "tags": []
   },
   "outputs": [],
   "source": [
    "worst_calc_components = [calc_comp[\"name\"] for calc_comp in meta_converted[table_name][worst_calc_name][\"calcs\"]] + [worst_calc_name]\n",
    "off_df = off_df.assign(xbrl_factoid_name=lambda x: x[xbrl_factoid_name].astype(pd.CategoricalDtype(categories=worst_calc_components)))"
   ]
  },
  {
   "cell_type": "code",
   "execution_count": null,
   "id": "4a10739f-0fa5-49b2-9060-811c523559c3",
   "metadata": {
    "tags": []
   },
   "outputs": [],
   "source": [
    "for calc in worst_calc_names:\n",
    "    plt.hist(\n",
    "        off_df[off_df[xbrl_factoid_name] == calc].rel_diff, \n",
    "        bins=50,\n",
    "        range=(0,2),\n",
    "        label=calc,\n",
    "        \n",
    "    )\n",
    "plt.legend()\n",
    "plt.title(f\"Relative Diff in table: {table_name}\")\n",
    "plt.show()"
   ]
  },
  {
   "cell_type": "code",
   "execution_count": null,
   "id": "2d366781-cdc9-4245-9d8d-fc4529989e6e",
   "metadata": {
    "tags": []
   },
   "outputs": [],
   "source": [
    "dollar_value_col = income_table_dollar_cols[table_name]\n",
    "pd.merge(\n",
    "    calced_df,\n",
    "    off_df[\n",
    "        (off_df[xbrl_factoid_name] ==worst_calc_name)\n",
    "    ][pks_wo_factoid + [\"abs_diff\"]].drop_duplicates(),\n",
    "    left_on=pks_wo_factoid + [dollar_value_col],\n",
    "    right_on=pks_wo_factoid + [\"abs_diff\"],\n",
    ")"
   ]
  },
  {
   "cell_type": "code",
   "execution_count": null,
   "id": "f8c43dff-2977-4395-be8d-04be09e68363",
   "metadata": {
    "tags": []
   },
   "outputs": [],
   "source": [
    "worst_calc_name = worst_calc_names[0]\n",
    "worst_calc_components = [calc_comp[\"name\"] for calc_comp in meta_converted[table_name][worst_calc_name][\"calcs\"]] + [worst_calc_name]\n",
    "off_worst_index = (\n",
    "    off_df.set_index([xbrl_factoid_name] + pks_wo_factoid).sort_index().loc[worst_calc_name].index)\n",
    "(\n",
    "    calced_df.loc[(calced_df[xbrl_factoid_name].isin(worst_calc_components))]\n",
    "    .sort_values(xbrl_factoid_name).set_index(pks_wo_factoid).sort_index()\n",
    "    .loc[off_worst_index]\n",
    "    .head(60)\n",
    ")"
   ]
  },
  {
   "cell_type": "code",
   "execution_count": null,
   "id": "3b5c2320-0f6e-48c7-b7a4-fb2db98efb1d",
   "metadata": {
    "tags": []
   },
   "outputs": [],
   "source": [
    "op_rev_other"
   ]
  },
  {
   "cell_type": "code",
   "execution_count": null,
   "id": "8352ca1d-a1f8-4022-a47a-06882e27f176",
   "metadata": {
    "tags": []
   },
   "outputs": [],
   "source": [
    "off_worst_index"
   ]
  },
  {
   "cell_type": "code",
   "execution_count": null,
   "id": "c8265518-96d0-43ab-9d38-3abf68235bb0",
   "metadata": {},
   "outputs": [],
   "source": []
  }
 ],
 "metadata": {
  "kernelspec": {
   "display_name": "Python 3 (ipykernel)",
   "language": "python",
   "name": "python3"
  },
  "language_info": {
   "codemirror_mode": {
    "name": "ipython",
    "version": 3
   },
   "file_extension": ".py",
   "mimetype": "text/x-python",
   "name": "python",
   "nbconvert_exporter": "python",
   "pygments_lexer": "ipython3",
   "version": "3.11.3"
  }
 },
 "nbformat": 4,
 "nbformat_minor": 5
}
